{
 "cells": [
  {
   "cell_type": "code",
   "execution_count": 1,
   "metadata": {},
   "outputs": [],
   "source": [
    "from modulo_hash import * \n",
    "from objects import Logger, utils\n",
    "import random\n"
   ]
  },
  {
   "cell_type": "code",
   "execution_count": 2,
   "metadata": {},
   "outputs": [
    {
     "name": "stderr",
     "output_type": "stream",
     "text": [
      "2025-03-26 16:26:41,371: Tabela Hash criada com sucesso.\n"
     ]
    }
   ],
   "source": [
    "# Ativando o Logger\n",
    "Logger.get_instance().activate()  # Ativando o logger\n",
    "tabela = TabelaHash()\n"
   ]
  },
  {
   "cell_type": "code",
   "execution_count": 3,
   "metadata": {},
   "outputs": [
    {
     "name": "stderr",
     "output_type": "stream",
     "text": [
      "2025-03-26 16:26:41,382: Estratégia de hash definida como: encadeamento_externo\n",
      "2025-03-26 16:26:41,382: Par chave-valor (5, Valor-5) inserido na posição 5.\n",
      "2025-03-26 16:26:41,383: Par chave-valor (28, Valor-28) inserido na posição 1.\n",
      "2025-03-26 16:26:41,383: Colisão resolvida: par chave-valor (19, Valor-19) encadeado na posição 1.\n",
      "2025-03-26 16:26:41,384: Par chave-valor (15, Valor-15) inserido na posição 6.\n",
      "2025-03-26 16:26:41,384: Colisão resolvida: par chave-valor (55, Valor-55) encadeado na posição 1.\n",
      "2025-03-26 16:26:41,385: Par chave-valor (65, Valor-65) inserido na posição 2.\n",
      "2025-03-26 16:26:41,385: Par chave-valor (34, Valor-34) inserido na posição 7.\n",
      "2025-03-26 16:26:41,385: Par chave-valor (27, Valor-27) inserido na posição 0.\n",
      "2025-03-26 16:26:41,386: Par chave-valor (21, Valor-21) inserido na posição 3.\n",
      "2025-03-26 16:26:41,386: Colisão resolvida: par chave-valor (20, Valor-20) encadeado na posição 2.\n",
      "2025-03-26 16:26:41,386: Colisão resolvida: par chave-valor (33, Valor-33) encadeado na posição 6.\n"
     ]
    }
   ],
   "source": [
    "tabela.definir_estrategia('encadeamento_externo')\n",
    "chaves = [5, 28, 19, 15, 55, 65, 34, 27, 21, 20, 33]\n",
    "\n",
    "# Inserindo as chaves na tabela hash\n",
    "for chave in chaves:\n",
    "    tabela.inserir(chave, f\"Valor-{chave}\")"
   ]
  },
  {
   "cell_type": "code",
   "execution_count": 4,
   "metadata": {},
   "outputs": [
    {
     "name": "stderr",
     "output_type": "stream",
     "text": [
      "2025-03-26 16:26:41,395: Estrutura da Tabela Hash:\n",
      "2025-03-26 16:26:41,395: Posição 0: (27, Valor-27)\n",
      "2025-03-26 16:26:41,397: Posição 1: (28, Valor-28) -> (19, Valor-19) -> (55, Valor-55)\n",
      "2025-03-26 16:26:41,397: Posição 2: (65, Valor-65) -> (20, Valor-20)\n",
      "2025-03-26 16:26:41,397: Posição 3: (21, Valor-21)\n",
      "2025-03-26 16:26:41,397: Posição 4: Vazia\n",
      "2025-03-26 16:26:41,397: Posição 5: (5, Valor-5)\n",
      "2025-03-26 16:26:41,397: Posição 6: (15, Valor-15) -> (33, Valor-33)\n",
      "2025-03-26 16:26:41,399: Posição 7: (34, Valor-34)\n",
      "2025-03-26 16:26:41,399: Posição 8: Vazia\n"
     ]
    }
   ],
   "source": [
    "tabela.exibir_tabela()"
   ]
  },
  {
   "cell_type": "code",
   "execution_count": 5,
   "metadata": {},
   "outputs": [
    {
     "name": "stderr",
     "output_type": "stream",
     "text": [
      "2025-03-26 16:26:41,408: Tabela Hash limpa com sucesso.\n"
     ]
    }
   ],
   "source": [
    "tabela.limpar_tabela()"
   ]
  },
  {
   "cell_type": "code",
   "execution_count": 6,
   "metadata": {},
   "outputs": [
    {
     "name": "stderr",
     "output_type": "stream",
     "text": [
      "2025-03-26 16:26:41,415: Estratégia de hash definida como: encadeamento_interior\n",
      "2025-03-26 16:26:41,416: Par chave-valor (5, Valor-5) inserido na posição 5.\n",
      "2025-03-26 16:26:41,416: Par chave-valor (28, Valor-28) inserido na posição 4.\n",
      "2025-03-26 16:26:41,417: Par chave-valor (19, Valor-19) inserido na posição 1.\n",
      "2025-03-26 16:26:41,417: Par chave-valor (15, Valor-15) inserido na posição 3.\n",
      "2025-03-26 16:26:41,417: Colisão resolvida: par chave-valor (55, Valor-55) inserido na posição 6.\n",
      "2025-03-26 16:26:41,418: Colisão resolvida: par chave-valor (65, Valor-65) inserido na posição 7.\n",
      "2025-03-26 16:26:41,418: Colisão resolvida: par chave-valor (34, Valor-34) inserido na posição 8.\n",
      "2025-03-26 16:26:41,418: Overflow verdadeiro: não há espaço para (27, Valor-27).\n",
      "2025-03-26 16:26:41,419: Overflow verdadeiro: não há espaço para (21, Valor-21).\n",
      "2025-03-26 16:26:41,419: Par chave-valor (20, Valor-20) inserido na posição 2.\n",
      "2025-03-26 16:26:41,419: Overflow verdadeiro: não há espaço para (33, Valor-33).\n"
     ]
    }
   ],
   "source": [
    "tabela.definir_estrategia('encadeamento_interior')\n",
    "\n",
    "chaves = [5, 28, 19, 15, 55, 65, 34, 27, 21, 20, 33]\n",
    "for chave in chaves:\n",
    "    tabela.inserir(chave, f\"Valor-{chave}\")\n"
   ]
  },
  {
   "cell_type": "code",
   "execution_count": 7,
   "metadata": {},
   "outputs": [
    {
     "name": "stderr",
     "output_type": "stream",
     "text": [
      "2025-03-26 16:26:41,425: Estrutura da Tabela Hash:\n",
      "2025-03-26 16:26:41,425: Posição 0: Vazia\n",
      "2025-03-26 16:26:41,425: Posição 1: (19, Valor-19)\n",
      "2025-03-26 16:26:41,427: Posição 2: (20, Valor-20)\n",
      "2025-03-26 16:26:41,427: Posição 3: (15, Valor-15)\n",
      "2025-03-26 16:26:41,427: Posição 4: (28, Valor-28)\n",
      "2025-03-26 16:26:41,428: Posição 5: (5, Valor-5)\n",
      "2025-03-26 16:26:41,428: Posição 6: (55, Valor-55)\n",
      "2025-03-26 16:26:41,429: Posição 7: (65, Valor-65)\n",
      "2025-03-26 16:26:41,429: Posição 8: (34, Valor-34)\n"
     ]
    }
   ],
   "source": [
    "tabela.exibir_tabela()"
   ]
  },
  {
   "cell_type": "code",
   "execution_count": 8,
   "metadata": {},
   "outputs": [
    {
     "name": "stderr",
     "output_type": "stream",
     "text": [
      "2025-03-26 16:26:41,437: Tabela Hash limpa com sucesso.\n"
     ]
    }
   ],
   "source": [
    "tabela.limpar_tabela()"
   ]
  },
  {
   "cell_type": "code",
   "execution_count": 9,
   "metadata": {},
   "outputs": [
    {
     "name": "stderr",
     "output_type": "stream",
     "text": [
      "2025-03-26 16:26:41,447: Estratégia de hash definida como: enderecamento_aberto\n",
      "2025-03-26 16:26:41,448: Par chave-valor (5, Valor-5) inserido na posição 5.\n",
      "2025-03-26 16:26:41,448: Par chave-valor (28, Valor-28) inserido na posição 1.\n",
      "2025-03-26 16:26:41,449: Par chave-valor (19, Valor-19) inserido na posição 2.\n",
      "2025-03-26 16:26:41,450: Par chave-valor (15, Valor-15) inserido na posição 6.\n",
      "2025-03-26 16:26:41,450: Par chave-valor (55, Valor-55) inserido na posição 3.\n",
      "2025-03-26 16:26:41,450: Par chave-valor (65, Valor-65) inserido na posição 4.\n",
      "2025-03-26 16:26:41,451: Par chave-valor (34, Valor-34) inserido na posição 7.\n",
      "2025-03-26 16:26:41,451: Par chave-valor (27, Valor-27) inserido na posição 0.\n",
      "2025-03-26 16:26:41,451: Par chave-valor (21, Valor-21) inserido na posição 8.\n",
      "2025-03-26 16:26:41,452: Overflow verdadeiro: não há espaço para (20, Valor-20).\n",
      "2025-03-26 16:26:41,452: Overflow verdadeiro: não há espaço para (33, Valor-33).\n"
     ]
    }
   ],
   "source": [
    "tabela.definir_estrategia('enderecamento_aberto')\n",
    "\n",
    "chaves = [5, 28, 19, 15, 55, 65, 34, 27, 21, 20, 33]\n",
    "for chave in chaves:\n",
    "    tabela.inserir(chave, f\"Valor-{chave}\")"
   ]
  },
  {
   "cell_type": "code",
   "execution_count": 10,
   "metadata": {},
   "outputs": [
    {
     "name": "stderr",
     "output_type": "stream",
     "text": [
      "2025-03-26 16:26:41,460: Estrutura da Tabela Hash:\n",
      "2025-03-26 16:26:41,460: Posição 0: (27, Valor-27)\n",
      "2025-03-26 16:26:41,461: Posição 1: (28, Valor-28)\n",
      "2025-03-26 16:26:41,461: Posição 2: (19, Valor-19)\n",
      "2025-03-26 16:26:41,462: Posição 3: (55, Valor-55)\n",
      "2025-03-26 16:26:41,462: Posição 4: (65, Valor-65)\n",
      "2025-03-26 16:26:41,463: Posição 5: (5, Valor-5)\n",
      "2025-03-26 16:26:41,463: Posição 6: (15, Valor-15)\n",
      "2025-03-26 16:26:41,464: Posição 7: (34, Valor-34)\n",
      "2025-03-26 16:26:41,464: Posição 8: (21, Valor-21)\n"
     ]
    }
   ],
   "source": [
    "tabela.exibir_tabela()"
   ]
  }
 ],
 "metadata": {
  "kernelspec": {
   "display_name": "Python 3",
   "language": "python",
   "name": "python3"
  },
  "language_info": {
   "codemirror_mode": {
    "name": "ipython",
    "version": 3
   },
   "file_extension": ".py",
   "mimetype": "text/x-python",
   "name": "python",
   "nbconvert_exporter": "python",
   "pygments_lexer": "ipython3",
   "version": "3.12.1"
  }
 },
 "nbformat": 4,
 "nbformat_minor": 2
}
