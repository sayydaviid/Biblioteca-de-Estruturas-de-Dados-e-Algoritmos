{
 "cells": [
  {
   "cell_type": "code",
   "execution_count": 1,
   "metadata": {},
   "outputs": [],
   "source": [
    "from modulo_hash.tabela_hash import * \n",
    "from modulo_arvores.utils import *\n",
    "from objects.logger import Logger\n",
    "import random\n"
   ]
  },
  {
   "cell_type": "code",
   "execution_count": 2,
   "metadata": {},
   "outputs": [
    {
     "name": "stderr",
     "output_type": "stream",
     "text": [
      "2025-03-26 14:35:29,244: Tabela Hash criada com sucesso.\n"
     ]
    }
   ],
   "source": [
    "# Ativando o Logger\n",
    "Logger.get_instance().activate()  # Ativando o logger\n",
    "tabela = TabelaHash()\n"
   ]
  },
  {
   "cell_type": "code",
   "execution_count": 3,
   "metadata": {},
   "outputs": [
    {
     "name": "stderr",
     "output_type": "stream",
     "text": [
      "2025-03-26 14:35:29,250: Estratégia de hash definida como: encadeamento_externo\n",
      "2025-03-26 14:35:29,251: Par chave-valor (5, Valor-5) inserido na posição 5.\n",
      "2025-03-26 14:35:29,251: Par chave-valor (28, Valor-28) inserido na posição 1.\n",
      "2025-03-26 14:35:29,252: Colisão resolvida: par chave-valor (19, Valor-19) encadeado na posição 1.\n",
      "2025-03-26 14:35:29,252: Par chave-valor (15, Valor-15) inserido na posição 6.\n",
      "2025-03-26 14:35:29,253: Colisão resolvida: par chave-valor (55, Valor-55) encadeado na posição 1.\n",
      "2025-03-26 14:35:29,253: Par chave-valor (65, Valor-65) inserido na posição 2.\n",
      "2025-03-26 14:35:29,253: Par chave-valor (34, Valor-34) inserido na posição 7.\n",
      "2025-03-26 14:35:29,254: Par chave-valor (27, Valor-27) inserido na posição 0.\n",
      "2025-03-26 14:35:29,254: Par chave-valor (21, Valor-21) inserido na posição 3.\n",
      "2025-03-26 14:35:29,254: Colisão resolvida: par chave-valor (20, Valor-20) encadeado na posição 2.\n",
      "2025-03-26 14:35:29,255: Colisão resolvida: par chave-valor (33, Valor-33) encadeado na posição 6.\n"
     ]
    }
   ],
   "source": [
    "tabela.definir_estrategia('encadeamento_externo')\n",
    "chaves = [5, 28, 19, 15, 55, 65, 34, 27, 21, 20, 33]\n",
    "\n",
    "# Inserindo as chaves na tabela hash\n",
    "for chave in chaves:\n",
    "    tabela.inserir(chave, f\"Valor-{chave}\")"
   ]
  },
  {
   "cell_type": "code",
   "execution_count": 4,
   "metadata": {},
   "outputs": [
    {
     "name": "stderr",
     "output_type": "stream",
     "text": [
      "2025-03-26 14:35:29,261: Estrutura da Tabela Hash:\n",
      "2025-03-26 14:35:29,261: Posição 0: (27, Valor-27)\n",
      "2025-03-26 14:35:29,262: Posição 1: (28, Valor-28) -> (19, Valor-19) -> (55, Valor-55)\n",
      "2025-03-26 14:35:29,262: Posição 2: (65, Valor-65) -> (20, Valor-20)\n",
      "2025-03-26 14:35:29,262: Posição 3: (21, Valor-21)\n",
      "2025-03-26 14:35:29,263: Posição 4: Vazia\n",
      "2025-03-26 14:35:29,263: Posição 5: (5, Valor-5)\n",
      "2025-03-26 14:35:29,264: Posição 6: (15, Valor-15) -> (33, Valor-33)\n",
      "2025-03-26 14:35:29,264: Posição 7: (34, Valor-34)\n",
      "2025-03-26 14:35:29,264: Posição 8: Vazia\n"
     ]
    }
   ],
   "source": [
    "tabela.exibir_tabela()"
   ]
  },
  {
   "cell_type": "code",
   "execution_count": 5,
   "metadata": {},
   "outputs": [
    {
     "name": "stderr",
     "output_type": "stream",
     "text": [
      "2025-03-26 14:35:29,270: Tabela Hash limpa com sucesso.\n"
     ]
    }
   ],
   "source": [
    "tabela.limpar_tabela()"
   ]
  },
  {
   "cell_type": "code",
   "execution_count": 6,
   "metadata": {},
   "outputs": [
    {
     "name": "stderr",
     "output_type": "stream",
     "text": [
      "2025-03-26 14:35:29,276: Estratégia de hash definida como: encadeamento_interior\n",
      "2025-03-26 14:35:29,277: Par chave-valor (5, Valor-5) inserido na posição 5.\n",
      "2025-03-26 14:35:29,277: Par chave-valor (28, Valor-28) inserido na posição 4.\n",
      "2025-03-26 14:35:29,278: Par chave-valor (19, Valor-19) inserido na posição 1.\n",
      "2025-03-26 14:35:29,278: Par chave-valor (15, Valor-15) inserido na posição 3.\n",
      "2025-03-26 14:35:29,278: Colisão resolvida: par chave-valor (55, Valor-55) inserido na posição 6.\n",
      "2025-03-26 14:35:29,279: Colisão resolvida: par chave-valor (65, Valor-65) inserido na posição 7.\n",
      "2025-03-26 14:35:29,279: Colisão resolvida: par chave-valor (34, Valor-34) inserido na posição 8.\n",
      "2025-03-26 14:35:29,279: Overflow verdadeiro: não há espaço para (27, Valor-27).\n",
      "2025-03-26 14:35:29,280: Overflow verdadeiro: não há espaço para (21, Valor-21).\n",
      "2025-03-26 14:35:29,280: Par chave-valor (20, Valor-20) inserido na posição 2.\n",
      "2025-03-26 14:35:29,280: Overflow verdadeiro: não há espaço para (33, Valor-33).\n"
     ]
    }
   ],
   "source": [
    "tabela.definir_estrategia('encadeamento_interior')\n",
    "\n",
    "chaves = [5, 28, 19, 15, 55, 65, 34, 27, 21, 20, 33]\n",
    "for chave in chaves:\n",
    "    tabela.inserir(chave, f\"Valor-{chave}\")\n"
   ]
  },
  {
   "cell_type": "code",
   "execution_count": 7,
   "metadata": {},
   "outputs": [
    {
     "name": "stderr",
     "output_type": "stream",
     "text": [
      "2025-03-26 14:35:29,286: Estrutura da Tabela Hash:\n",
      "2025-03-26 14:35:29,286: Posição 0: Vazia\n",
      "2025-03-26 14:35:29,287: Posição 1: (19, Valor-19)\n",
      "2025-03-26 14:35:29,287: Posição 2: (20, Valor-20)\n",
      "2025-03-26 14:35:29,288: Posição 3: (15, Valor-15)\n",
      "2025-03-26 14:35:29,288: Posição 4: (28, Valor-28)\n",
      "2025-03-26 14:35:29,289: Posição 5: (5, Valor-5)\n",
      "2025-03-26 14:35:29,289: Posição 6: (55, Valor-55)\n",
      "2025-03-26 14:35:29,289: Posição 7: (65, Valor-65)\n",
      "2025-03-26 14:35:29,290: Posição 8: (34, Valor-34)\n"
     ]
    }
   ],
   "source": [
    "tabela.exibir_tabela()"
   ]
  },
  {
   "cell_type": "code",
   "execution_count": 8,
   "metadata": {},
   "outputs": [
    {
     "name": "stderr",
     "output_type": "stream",
     "text": [
      "2025-03-26 14:35:29,295: Tabela Hash limpa com sucesso.\n"
     ]
    }
   ],
   "source": [
    "tabela.limpar_tabela()"
   ]
  },
  {
   "cell_type": "code",
   "execution_count": null,
   "metadata": {},
   "outputs": [
    {
     "name": "stderr",
     "output_type": "stream",
     "text": [
      "2025-03-26 14:35:29,302: Estratégia de hash definida como: enderecamento_aberto\n",
      "2025-03-26 14:35:29,303: Par chave-valor (5, Valor-5) inserido na posição 5.\n",
      "2025-03-26 14:35:29,303: Par chave-valor (28, Valor-28) inserido na posição 1.\n",
      "2025-03-26 14:35:29,304: Par chave-valor (19, Valor-19) inserido na posição 2.\n",
      "2025-03-26 14:35:29,304: Par chave-valor (15, Valor-15) inserido na posição 6.\n",
      "2025-03-26 14:35:29,304: Par chave-valor (55, Valor-55) inserido na posição 3.\n",
      "2025-03-26 14:35:29,305: Par chave-valor (65, Valor-65) inserido na posição 4.\n",
      "2025-03-26 14:35:29,305: Par chave-valor (34, Valor-34) inserido na posição 7.\n",
      "2025-03-26 14:35:29,305: Par chave-valor (27, Valor-27) inserido na posição 0.\n",
      "2025-03-26 14:35:29,306: Par chave-valor (21, Valor-21) inserido na posição 8.\n",
      "2025-03-26 14:35:29,306: Overflow verdadeiro: não há espaço para (20, Valor-20).\n",
      "2025-03-26 14:35:29,306: Overflow verdadeiro: não há espaço para (33, Valor-33).\n"
     ]
    }
   ],
   "source": [
    "tabela.definir_estrategia('enderecamento_aberto')\n",
    "\n",
    "chaves = [5, 28, 19, 15, 55, 65, 34, 27, 21, 20, 33]\n",
    "for chave in chaves:\n",
    "    tabela.inserir(chave, f\"Valor-{chave}\")"
   ]
  },
  {
   "cell_type": "code",
   "execution_count": 10,
   "metadata": {},
   "outputs": [
    {
     "name": "stderr",
     "output_type": "stream",
     "text": [
      "2025-03-26 14:35:29,312: Estrutura da Tabela Hash:\n",
      "2025-03-26 14:35:29,312: Posição 0: (27, Valor-27)\n",
      "2025-03-26 14:35:29,313: Posição 1: (28, Valor-28)\n",
      "2025-03-26 14:35:29,313: Posição 2: (19, Valor-19)\n",
      "2025-03-26 14:35:29,314: Posição 3: (55, Valor-55)\n",
      "2025-03-26 14:35:29,316: Posição 4: (65, Valor-65)\n",
      "2025-03-26 14:35:29,317: Posição 5: (5, Valor-5)\n",
      "2025-03-26 14:35:29,317: Posição 6: (15, Valor-15)\n",
      "2025-03-26 14:35:29,318: Posição 7: (34, Valor-34)\n",
      "2025-03-26 14:35:29,318: Posição 8: (21, Valor-21)\n"
     ]
    }
   ],
   "source": [
    "tabela.exibir_tabela()"
   ]
  }
 ],
 "metadata": {
  "kernelspec": {
   "display_name": "Python 3",
   "language": "python",
   "name": "python3"
  },
  "language_info": {
   "codemirror_mode": {
    "name": "ipython",
    "version": 3
   },
   "file_extension": ".py",
   "mimetype": "text/x-python",
   "name": "python",
   "nbconvert_exporter": "python",
   "pygments_lexer": "ipython3",
   "version": "3.13.1"
  }
 },
 "nbformat": 4,
 "nbformat_minor": 2
}
