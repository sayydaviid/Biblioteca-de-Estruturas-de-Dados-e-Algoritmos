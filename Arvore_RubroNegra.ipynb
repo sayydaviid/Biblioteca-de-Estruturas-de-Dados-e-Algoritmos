{
 "cells": [
  {
   "cell_type": "code",
   "execution_count": 1,
   "metadata": {},
   "outputs": [],
   "source": [
    "from modulo_arvores import ArvoreRubroNegra \n",
    "from objects import Logger, utils\n",
    "import random\n"
   ]
  },
  {
   "cell_type": "code",
   "execution_count": 2,
   "metadata": {},
   "outputs": [
    {
     "name": "stderr",
     "output_type": "stream",
     "text": [
      "2025-03-26 16:24:24,216: Árvore Rubro-Negra criada com sucesso.\n"
     ]
    }
   ],
   "source": [
    "# Ativando o Logger\n",
    "Logger.get_instance().activate()  # Ativando o logger\n",
    "arvore = ArvoreRubroNegra()"
   ]
  },
  {
   "cell_type": "markdown",
   "metadata": {},
   "source": [
    "#### CASO 1"
   ]
  },
  {
   "cell_type": "code",
   "execution_count": 3,
   "metadata": {},
   "outputs": [
    {
     "name": "stderr",
     "output_type": "stream",
     "text": [
      "2025-03-26 16:24:24,222: Inserido nó com chave 50.\n",
      "2025-03-26 16:24:24,223: Árvore atual:\n",
      "└── 50 (vermelho)\n",
      "\n",
      "2025-03-26 16:24:24,224: Inserido nó com chave 30.\n",
      "2025-03-26 16:24:24,224: Árvore atual:\n",
      "└── 50 (preto)\n",
      "    └── 30 (vermelho)\n",
      "\n"
     ]
    }
   ],
   "source": [
    "arvore.inserir(50)\n",
    "arvore.inserir(30)"
   ]
  },
  {
   "cell_type": "markdown",
   "metadata": {},
   "source": [
    "#### CASO 2"
   ]
  },
  {
   "cell_type": "code",
   "execution_count": 4,
   "metadata": {},
   "outputs": [
    {
     "name": "stderr",
     "output_type": "stream",
     "text": [
      "2025-03-26 16:24:24,230: Inserido nó com chave 70.\n",
      "2025-03-26 16:24:24,230: Árvore atual:\n",
      "└── 50 (preto)\n",
      "    └── 30 (vermelho)\n",
      "    ├── 70 (vermelho)\n",
      "\n",
      "2025-03-26 16:24:24,231: Inserido nó com chave 80.\n",
      "2025-03-26 16:24:24,231: Árvore atual:\n",
      "└── 50 (preto)\n",
      "    └── 30 (vermelho)\n",
      "    ├── 70 (vermelho)\n",
      "    │   ├── 80 (vermelho)\n",
      "\n",
      "2025-03-26 16:24:24,232: Caso 1 - Recoloração realizada\n",
      "2025-03-26 16:24:24,232: Árvore atual:\n",
      "└── 50 (vermelho)\n",
      "    └── 30 (preto)\n",
      "    ├── 70 (preto)\n",
      "    │   ├── 80 (vermelho)\n",
      "\n"
     ]
    }
   ],
   "source": [
    "arvore.inserir(70)\n",
    "arvore.inserir(80)"
   ]
  },
  {
   "cell_type": "code",
   "execution_count": 5,
   "metadata": {},
   "outputs": [
    {
     "name": "stderr",
     "output_type": "stream",
     "text": [
      "2025-03-26 16:24:24,238: Árvore limpa com sucesso.\n"
     ]
    }
   ],
   "source": [
    "arvore.limpar_arvore()"
   ]
  },
  {
   "cell_type": "markdown",
   "metadata": {},
   "source": [
    "#### CASO 3a"
   ]
  },
  {
   "cell_type": "code",
   "execution_count": 6,
   "metadata": {},
   "outputs": [
    {
     "name": "stderr",
     "output_type": "stream",
     "text": [
      "2025-03-26 16:24:24,243: Inserido nó com chave 30.\n",
      "2025-03-26 16:24:24,244: Árvore atual:\n",
      "└── 30 (vermelho)\n",
      "\n",
      "2025-03-26 16:24:24,244: Inserido nó com chave 20.\n",
      "2025-03-26 16:24:24,245: Árvore atual:\n",
      "└── 30 (preto)\n",
      "    └── 20 (vermelho)\n",
      "\n",
      "2025-03-26 16:24:24,245: Inserido nó com chave 10.\n",
      "2025-03-26 16:24:24,245: Árvore atual:\n",
      "└── 30 (preto)\n",
      "    └── 20 (vermelho)\n",
      "        └── 10 (vermelho)\n",
      "\n",
      "2025-03-26 16:24:24,246: Iniciando rotação à direita no nó 30.\n",
      "2025-03-26 16:24:24,246: Rotação à direita no nó 30 concluída.\n",
      "2025-03-26 16:24:24,247: Árvore atual:\n",
      "└── 20 (preto)\n",
      "    └── 10 (vermelho)\n",
      "    ├── 30 (vermelho)\n",
      "\n",
      "2025-03-26 16:24:24,247: Caso 3 - Rotação à direita realizada\n",
      "2025-03-26 16:24:24,248: Árvore atual:\n",
      "└── 20 (preto)\n",
      "    └── 10 (vermelho)\n",
      "    ├── 30 (vermelho)\n",
      "\n"
     ]
    }
   ],
   "source": [
    "arvore.inserir(30)\n",
    "arvore.inserir(20)\n",
    "arvore.inserir(10)"
   ]
  },
  {
   "cell_type": "code",
   "execution_count": 7,
   "metadata": {},
   "outputs": [
    {
     "name": "stderr",
     "output_type": "stream",
     "text": [
      "2025-03-26 16:24:24,254: Árvore limpa com sucesso.\n"
     ]
    }
   ],
   "source": [
    "arvore.limpar_arvore()"
   ]
  },
  {
   "cell_type": "markdown",
   "metadata": {},
   "source": [
    "#### CASO 3b  "
   ]
  },
  {
   "cell_type": "code",
   "execution_count": 8,
   "metadata": {},
   "outputs": [
    {
     "name": "stderr",
     "output_type": "stream",
     "text": [
      "2025-03-26 16:24:24,260: Inserido nó com chave 30.\n",
      "2025-03-26 16:24:24,261: Árvore atual:\n",
      "└── 30 (vermelho)\n",
      "\n",
      "2025-03-26 16:24:24,261: Inserido nó com chave 40.\n",
      "2025-03-26 16:24:24,261: Árvore atual:\n",
      "└── 30 (preto)\n",
      "    ├── 40 (vermelho)\n",
      "\n",
      "2025-03-26 16:24:24,262: Inserido nó com chave 50.\n",
      "2025-03-26 16:24:24,262: Árvore atual:\n",
      "└── 30 (preto)\n",
      "    ├── 40 (vermelho)\n",
      "    │   ├── 50 (vermelho)\n",
      "\n",
      "2025-03-26 16:24:24,263: Iniciando rotação à esquerda no nó 30.\n",
      "2025-03-26 16:24:24,263: Rotação à esquerda no nó 30 concluída.\n",
      "2025-03-26 16:24:24,263: Árvore atual:\n",
      "└── 40 (preto)\n",
      "    └── 30 (vermelho)\n",
      "    ├── 50 (vermelho)\n",
      "\n",
      "2025-03-26 16:24:24,263: Caso 3 - Rotação à esquerda realizada\n",
      "2025-03-26 16:24:24,264: Árvore atual:\n",
      "└── 40 (preto)\n",
      "    └── 30 (vermelho)\n",
      "    ├── 50 (vermelho)\n",
      "\n"
     ]
    }
   ],
   "source": [
    "arvore.inserir(30)\n",
    "arvore.inserir(40)\n",
    "arvore.inserir(50)"
   ]
  },
  {
   "cell_type": "code",
   "execution_count": 9,
   "metadata": {},
   "outputs": [
    {
     "name": "stderr",
     "output_type": "stream",
     "text": [
      "2025-03-26 16:24:24,270: Árvore limpa com sucesso.\n"
     ]
    }
   ],
   "source": [
    "arvore.limpar_arvore()"
   ]
  },
  {
   "cell_type": "markdown",
   "metadata": {},
   "source": [
    "#### CASO 3c"
   ]
  },
  {
   "cell_type": "code",
   "execution_count": 10,
   "metadata": {},
   "outputs": [
    {
     "name": "stderr",
     "output_type": "stream",
     "text": [
      "2025-03-26 16:24:24,279: Inserido nó com chave 30.\n",
      "2025-03-26 16:24:24,280: Árvore atual:\n",
      "└── 30 (vermelho)\n",
      "\n",
      "2025-03-26 16:24:24,281: Inserido nó com chave 40.\n",
      "2025-03-26 16:24:24,281: Árvore atual:\n",
      "└── 30 (preto)\n",
      "    ├── 40 (vermelho)\n",
      "\n",
      "2025-03-26 16:24:24,281: Inserido nó com chave 39.\n",
      "2025-03-26 16:24:24,283: Árvore atual:\n",
      "└── 30 (preto)\n",
      "    ├── 40 (vermelho)\n",
      "    │   └── 39 (vermelho)\n",
      "\n",
      "2025-03-26 16:24:24,283: Iniciando rotação à direita no nó 40.\n",
      "2025-03-26 16:24:24,283: Rotação à direita no nó 40 concluída.\n",
      "2025-03-26 16:24:24,284: Árvore atual:\n",
      "└── 30 (preto)\n",
      "    ├── 39 (vermelho)\n",
      "    │   ├── 40 (vermelho)\n",
      "\n",
      "2025-03-26 16:24:24,284: Iniciando rotação à esquerda no nó 30.\n",
      "2025-03-26 16:24:24,284: Rotação à esquerda no nó 30 concluída.\n",
      "2025-03-26 16:24:24,285: Árvore atual:\n",
      "└── 39 (preto)\n",
      "    └── 30 (vermelho)\n",
      "    ├── 40 (vermelho)\n",
      "\n",
      "2025-03-26 16:24:24,285: Caso 3 - Rotação à esquerda realizada\n",
      "2025-03-26 16:24:24,286: Árvore atual:\n",
      "└── 39 (preto)\n",
      "    └── 30 (vermelho)\n",
      "    ├── 40 (vermelho)\n",
      "\n"
     ]
    }
   ],
   "source": [
    "arvore.inserir(30)\n",
    "arvore.inserir(40)  \n",
    "arvore.inserir(39)"
   ]
  },
  {
   "cell_type": "code",
   "execution_count": 11,
   "metadata": {},
   "outputs": [
    {
     "name": "stderr",
     "output_type": "stream",
     "text": [
      "2025-03-26 16:24:24,295: Árvore limpa com sucesso.\n"
     ]
    }
   ],
   "source": [
    "arvore.limpar_arvore()"
   ]
  },
  {
   "cell_type": "markdown",
   "metadata": {},
   "source": [
    "#### CASO 3d"
   ]
  },
  {
   "cell_type": "code",
   "execution_count": 12,
   "metadata": {},
   "outputs": [
    {
     "name": "stderr",
     "output_type": "stream",
     "text": [
      "2025-03-26 16:24:24,302: Inserido nó com chave 30.\n",
      "2025-03-26 16:24:24,303: Árvore atual:\n",
      "└── 30 (vermelho)\n",
      "\n",
      "2025-03-26 16:24:24,303: Inserido nó com chave 28.\n",
      "2025-03-26 16:24:24,304: Árvore atual:\n",
      "└── 30 (preto)\n",
      "    └── 28 (vermelho)\n",
      "\n",
      "2025-03-26 16:24:24,304: Inserido nó com chave 29.\n",
      "2025-03-26 16:24:24,305: Árvore atual:\n",
      "└── 30 (preto)\n",
      "    └── 28 (vermelho)\n",
      "        ├── 29 (vermelho)\n",
      "\n",
      "2025-03-26 16:24:24,306: Iniciando rotação à esquerda no nó 28.\n",
      "2025-03-26 16:24:24,306: Rotação à esquerda no nó 28 concluída.\n",
      "2025-03-26 16:24:24,306: Árvore atual:\n",
      "└── 30 (preto)\n",
      "    └── 29 (vermelho)\n",
      "        └── 28 (vermelho)\n",
      "\n",
      "2025-03-26 16:24:24,307: Iniciando rotação à direita no nó 30.\n",
      "2025-03-26 16:24:24,308: Rotação à direita no nó 30 concluída.\n",
      "2025-03-26 16:24:24,308: Árvore atual:\n",
      "└── 29 (preto)\n",
      "    └── 28 (vermelho)\n",
      "    ├── 30 (vermelho)\n",
      "\n",
      "2025-03-26 16:24:24,309: Caso 3 - Rotação à direita realizada\n",
      "2025-03-26 16:24:24,309: Árvore atual:\n",
      "└── 29 (preto)\n",
      "    └── 28 (vermelho)\n",
      "    ├── 30 (vermelho)\n",
      "\n"
     ]
    }
   ],
   "source": [
    "arvore.inserir(30)\n",
    "arvore.inserir(28)\n",
    "arvore.inserir(29)"
   ]
  }
 ],
 "metadata": {
  "kernelspec": {
   "display_name": "Python 3",
   "language": "python",
   "name": "python3"
  },
  "language_info": {
   "codemirror_mode": {
    "name": "ipython",
    "version": 3
   },
   "file_extension": ".py",
   "mimetype": "text/x-python",
   "name": "python",
   "nbconvert_exporter": "python",
   "pygments_lexer": "ipython3",
   "version": "3.13.1"
  }
 },
 "nbformat": 4,
 "nbformat_minor": 2
}
