{
 "cells": [
  {
   "cell_type": "code",
   "execution_count": 1,
   "metadata": {},
   "outputs": [],
   "source": [
    "from modulo_arvores.arvore_rubro_negra import *  \n",
    "from modulo_arvores.utils import *\n",
    "from objects.logger import Logger\n",
    "import random\n"
   ]
  },
  {
   "cell_type": "code",
   "execution_count": 2,
   "metadata": {},
   "outputs": [
    {
     "name": "stderr",
     "output_type": "stream",
     "text": [
      "2025-03-24 12:17:42,534: Árvore Rubro-Negra criada com sucesso.\n"
     ]
    }
   ],
   "source": [
    "# Ativando o Logger\n",
    "Logger.get_instance().activate()  # Ativando o logger\n",
    "arvore = ArvoreRubroNegra()\n"
   ]
  },
  {
   "cell_type": "code",
   "execution_count": 3,
   "metadata": {},
   "outputs": [],
   "source": [
    "# # Gerando 3 valores aleatórios entre 1 e 100\n",
    "# valores = gerar_valores(quantidade=3, aleatorio=True, limite=100)\n",
    "\n",
    "\n",
    "# # Inserindo os valores na árvore e exibindo o passo a passo\n",
    "# for valor in valores:\n",
    "#     arvore.inserir(valor)  \n",
    "\n",
    "# # Escolher um valor aleatório para remoção\n",
    "# valor_remover = random.choice(valores)\n",
    "\n",
    "# # Remover o valor escolhido da árvore\n",
    "# arvore.remover_raiz(valor_remover)"
   ]
  },
  {
   "cell_type": "code",
   "execution_count": 4,
   "metadata": {},
   "outputs": [],
   "source": [
    "# arvore.exibir_arvore()"
   ]
  },
  {
   "cell_type": "markdown",
   "metadata": {},
   "source": [
    "#### CASO 1"
   ]
  },
  {
   "cell_type": "code",
   "execution_count": null,
   "metadata": {},
   "outputs": [
    {
     "name": "stderr",
     "output_type": "stream",
     "text": [
      "2025-03-24 12:17:42,984: Inserido nó com chave 50.\n",
      "2025-03-24 12:17:42,986: Árvore atual:\n",
      "└── 50 (vermelho)\n",
      "\n",
      "2025-03-24 12:17:42,987: Inserido nó com chave 30.\n",
      "2025-03-24 12:17:42,988: Árvore atual:\n",
      "└── 50 (preto)\n",
      "    └── 30 (vermelho)\n",
      "\n"
     ]
    }
   ],
   "source": [
    "arvore.inserir(50)\n",
    "arvore.inserir(30)"
   ]
  },
  {
   "cell_type": "markdown",
   "metadata": {},
   "source": [
    "#### CASO 2"
   ]
  },
  {
   "cell_type": "code",
   "execution_count": null,
   "metadata": {},
   "outputs": [
    {
     "name": "stderr",
     "output_type": "stream",
     "text": [
      "2025-03-24 12:17:43,195: Inserido nó com chave 70.\n",
      "2025-03-24 12:17:43,197: Árvore atual:\n",
      "└── 50 (preto)\n",
      "    └── 30 (vermelho)\n",
      "    ├── 70 (vermelho)\n",
      "\n",
      "2025-03-24 12:17:43,197: Inserido nó com chave 80.\n",
      "2025-03-24 12:17:43,198: Árvore atual:\n",
      "└── 50 (preto)\n",
      "    └── 30 (vermelho)\n",
      "    ├── 70 (vermelho)\n",
      "    │   ├── 80 (vermelho)\n",
      "\n",
      "2025-03-24 12:17:43,199: Caso 1 - Recoloração realizada\n",
      "2025-03-24 12:17:43,199: Árvore atual:\n",
      "└── 50 (vermelho)\n",
      "    └── 30 (preto)\n",
      "    ├── 70 (preto)\n",
      "    │   ├── 80 (vermelho)\n",
      "\n"
     ]
    }
   ],
   "source": [
    "arvore.inserir(70)\n",
    "arvore.inserir(80)"
   ]
  },
  {
   "cell_type": "code",
   "execution_count": 7,
   "metadata": {},
   "outputs": [
    {
     "name": "stderr",
     "output_type": "stream",
     "text": [
      "2025-03-24 12:17:43,267: Árvore limpa com sucesso.\n"
     ]
    }
   ],
   "source": [
    "arvore.limpar_arvore()"
   ]
  },
  {
   "cell_type": "markdown",
   "metadata": {},
   "source": [
    "#### CASO 3a"
   ]
  },
  {
   "cell_type": "code",
   "execution_count": 8,
   "metadata": {},
   "outputs": [
    {
     "name": "stderr",
     "output_type": "stream",
     "text": [
      "2025-03-24 12:17:43,340: Inserido nó com chave 30.\n",
      "2025-03-24 12:17:43,342: Árvore atual:\n",
      "└── 30 (vermelho)\n",
      "\n",
      "2025-03-24 12:17:43,343: Inserido nó com chave 20.\n",
      "2025-03-24 12:17:43,344: Árvore atual:\n",
      "└── 30 (preto)\n",
      "    └── 20 (vermelho)\n",
      "\n",
      "2025-03-24 12:17:43,345: Inserido nó com chave 10.\n",
      "2025-03-24 12:17:43,347: Árvore atual:\n",
      "└── 30 (preto)\n",
      "    └── 20 (vermelho)\n",
      "        └── 10 (vermelho)\n",
      "\n",
      "2025-03-24 12:17:43,347: Iniciando rotação à direita no nó 30.\n",
      "2025-03-24 12:17:43,348: Rotação à direita no nó 30 concluída.\n",
      "2025-03-24 12:17:43,349: Árvore atual:\n",
      "└── 20 (preto)\n",
      "    └── 10 (vermelho)\n",
      "    ├── 30 (vermelho)\n",
      "\n",
      "2025-03-24 12:17:43,349: Caso 3 - Rotação à direita realizada\n",
      "2025-03-24 12:17:43,350: Árvore atual:\n",
      "└── 20 (preto)\n",
      "    └── 10 (vermelho)\n",
      "    ├── 30 (vermelho)\n",
      "\n"
     ]
    }
   ],
   "source": [
    "arvore.inserir(30)\n",
    "arvore.inserir(20)\n",
    "arvore.inserir(10)"
   ]
  },
  {
   "cell_type": "code",
   "execution_count": 9,
   "metadata": {},
   "outputs": [
    {
     "name": "stderr",
     "output_type": "stream",
     "text": [
      "2025-03-24 12:17:43,443: Árvore limpa com sucesso.\n"
     ]
    }
   ],
   "source": [
    "arvore.limpar_arvore()"
   ]
  },
  {
   "cell_type": "markdown",
   "metadata": {},
   "source": [
    "#### CASO 3b  "
   ]
  },
  {
   "cell_type": "code",
   "execution_count": 10,
   "metadata": {},
   "outputs": [
    {
     "name": "stderr",
     "output_type": "stream",
     "text": [
      "2025-03-24 12:17:43,532: Inserido nó com chave 30.\n",
      "2025-03-24 12:17:43,534: Árvore atual:\n",
      "└── 30 (vermelho)\n",
      "\n",
      "2025-03-24 12:17:43,537: Inserido nó com chave 40.\n",
      "2025-03-24 12:17:43,539: Árvore atual:\n",
      "└── 30 (preto)\n",
      "    ├── 40 (vermelho)\n",
      "\n",
      "2025-03-24 12:17:43,541: Inserido nó com chave 50.\n",
      "2025-03-24 12:17:43,541: Árvore atual:\n",
      "└── 30 (preto)\n",
      "    ├── 40 (vermelho)\n",
      "    │   ├── 50 (vermelho)\n",
      "\n",
      "2025-03-24 12:17:43,547: Iniciando rotação à esquerda no nó 30.\n",
      "2025-03-24 12:17:43,548: Rotação à esquerda no nó 30 concluída.\n",
      "2025-03-24 12:17:43,552: Árvore atual:\n",
      "└── 40 (preto)\n",
      "    └── 30 (vermelho)\n",
      "    ├── 50 (vermelho)\n",
      "\n",
      "2025-03-24 12:17:43,553: Caso 3 - Rotação à esquerda realizada\n",
      "2025-03-24 12:17:43,554: Árvore atual:\n",
      "└── 40 (preto)\n",
      "    └── 30 (vermelho)\n",
      "    ├── 50 (vermelho)\n",
      "\n"
     ]
    }
   ],
   "source": [
    "arvore.inserir(30)\n",
    "arvore.inserir(40)\n",
    "arvore.inserir(50)"
   ]
  },
  {
   "cell_type": "code",
   "execution_count": 11,
   "metadata": {},
   "outputs": [
    {
     "name": "stderr",
     "output_type": "stream",
     "text": [
      "2025-03-24 12:17:43,676: Árvore limpa com sucesso.\n"
     ]
    }
   ],
   "source": [
    "arvore.limpar_arvore()"
   ]
  },
  {
   "cell_type": "markdown",
   "metadata": {},
   "source": [
    "#### CASO 3c"
   ]
  },
  {
   "cell_type": "code",
   "execution_count": 12,
   "metadata": {},
   "outputs": [
    {
     "name": "stderr",
     "output_type": "stream",
     "text": [
      "2025-03-24 12:17:43,758: Inserido nó com chave 30.\n",
      "2025-03-24 12:17:43,760: Árvore atual:\n",
      "└── 30 (vermelho)\n",
      "\n",
      "2025-03-24 12:17:43,763: Inserido nó com chave 40.\n",
      "2025-03-24 12:17:43,764: Árvore atual:\n",
      "└── 30 (preto)\n",
      "    ├── 40 (vermelho)\n",
      "\n",
      "2025-03-24 12:17:43,766: Inserido nó com chave 39.\n",
      "2025-03-24 12:17:43,769: Árvore atual:\n",
      "└── 30 (preto)\n",
      "    ├── 40 (vermelho)\n",
      "    │   └── 39 (vermelho)\n",
      "\n",
      "2025-03-24 12:17:43,771: Iniciando rotação à direita no nó 40.\n",
      "2025-03-24 12:17:43,785: Rotação à direita no nó 40 concluída.\n",
      "2025-03-24 12:17:43,789: Árvore atual:\n",
      "└── 30 (preto)\n",
      "    ├── 39 (vermelho)\n",
      "    │   ├── 40 (vermelho)\n",
      "\n",
      "2025-03-24 12:17:43,794: Iniciando rotação à esquerda no nó 30.\n",
      "2025-03-24 12:17:43,812: Rotação à esquerda no nó 30 concluída.\n",
      "2025-03-24 12:17:43,815: Árvore atual:\n",
      "└── 39 (preto)\n",
      "    └── 30 (vermelho)\n",
      "    ├── 40 (vermelho)\n",
      "\n",
      "2025-03-24 12:17:43,816: Caso 3 - Rotação à esquerda realizada\n",
      "2025-03-24 12:17:43,827: Árvore atual:\n",
      "└── 39 (preto)\n",
      "    └── 30 (vermelho)\n",
      "    ├── 40 (vermelho)\n",
      "\n"
     ]
    }
   ],
   "source": [
    "arvore.inserir(30)\n",
    "arvore.inserir(40)  \n",
    "arvore.inserir(39)"
   ]
  },
  {
   "cell_type": "code",
   "execution_count": 13,
   "metadata": {},
   "outputs": [
    {
     "name": "stderr",
     "output_type": "stream",
     "text": [
      "2025-03-24 12:17:43,848: Árvore limpa com sucesso.\n"
     ]
    }
   ],
   "source": [
    "arvore.limpar_arvore()"
   ]
  },
  {
   "cell_type": "markdown",
   "metadata": {},
   "source": [
    "#### CASO 3d"
   ]
  },
  {
   "cell_type": "code",
   "execution_count": 14,
   "metadata": {},
   "outputs": [
    {
     "name": "stderr",
     "output_type": "stream",
     "text": [
      "2025-03-24 12:17:43,957: Inserido nó com chave 30.\n",
      "2025-03-24 12:17:43,960: Árvore atual:\n",
      "└── 30 (vermelho)\n",
      "\n",
      "2025-03-24 12:17:43,961: Inserido nó com chave 28.\n",
      "2025-03-24 12:17:43,962: Árvore atual:\n",
      "└── 30 (preto)\n",
      "    └── 28 (vermelho)\n",
      "\n",
      "2025-03-24 12:17:43,963: Inserido nó com chave 29.\n",
      "2025-03-24 12:17:43,964: Árvore atual:\n",
      "└── 30 (preto)\n",
      "    └── 28 (vermelho)\n",
      "        ├── 29 (vermelho)\n",
      "\n",
      "2025-03-24 12:17:43,967: Iniciando rotação à esquerda no nó 28.\n",
      "2025-03-24 12:17:43,969: Rotação à esquerda no nó 28 concluída.\n",
      "2025-03-24 12:17:43,973: Árvore atual:\n",
      "└── 30 (preto)\n",
      "    └── 29 (vermelho)\n",
      "        └── 28 (vermelho)\n",
      "\n",
      "2025-03-24 12:17:43,973: Iniciando rotação à direita no nó 30.\n",
      "2025-03-24 12:17:43,974: Rotação à direita no nó 30 concluída.\n",
      "2025-03-24 12:17:43,975: Árvore atual:\n",
      "└── 29 (preto)\n",
      "    └── 28 (vermelho)\n",
      "    ├── 30 (vermelho)\n",
      "\n",
      "2025-03-24 12:17:43,977: Caso 3 - Rotação à direita realizada\n",
      "2025-03-24 12:17:43,977: Árvore atual:\n",
      "└── 29 (preto)\n",
      "    └── 28 (vermelho)\n",
      "    ├── 30 (vermelho)\n",
      "\n"
     ]
    }
   ],
   "source": [
    "arvore.inserir(30)\n",
    "arvore.inserir(28)\n",
    "arvore.inserir(29)"
   ]
  }
 ],
 "metadata": {
  "kernelspec": {
   "display_name": "default",
   "language": "python",
   "name": "python3"
  },
  "language_info": {
   "codemirror_mode": {
    "name": "ipython",
    "version": 3
   },
   "file_extension": ".py",
   "mimetype": "text/x-python",
   "name": "python",
   "nbconvert_exporter": "python",
   "pygments_lexer": "ipython3",
   "version": "3.11.2"
  }
 },
 "nbformat": 4,
 "nbformat_minor": 2
}
