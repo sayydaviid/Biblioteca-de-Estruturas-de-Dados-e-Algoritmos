{
 "cells": [
  {
   "cell_type": "code",
   "execution_count": 1,
   "metadata": {},
   "outputs": [],
   "source": [
    "from modulo_arvores.arvore_radix import * \n",
    "from modulo_arvores.utils import *\n",
    "from objects.logger import Logger\n",
    "import random"
   ]
  },
  {
   "cell_type": "code",
   "execution_count": 2,
   "metadata": {},
   "outputs": [
    {
     "name": "stderr",
     "output_type": "stream",
     "text": [
      "2025-03-26 15:29:16,865: Árvore Radix criada com sucesso.\n"
     ]
    }
   ],
   "source": [
    "Logger.get_instance().activate()  # Ativando o logger\n",
    "arvore = RadixTree()"
   ]
  },
  {
   "cell_type": "code",
   "execution_count": 4,
   "metadata": {},
   "outputs": [
    {
     "name": "stderr",
     "output_type": "stream",
     "text": [
      "2025-03-26 15:29:16,912: Chave 'romane' inserida com valor 'Valor 1'.\n",
      "2025-03-26 15:29:16,912: Chave 'romanus' inserida com valor 'Valor 2'.\n",
      "2025-03-26 15:29:16,913: Chave 'romulus' inserida com valor 'Valor 3'.\n",
      "2025-03-26 15:29:16,913: Chave 'rubens' inserida com valor 'Valor 4'.\n",
      "2025-03-26 15:29:16,914: Chave 'ruber' inserida com valor 'Valor 5'.\n",
      "2025-03-26 15:29:16,914: Chave 'rubicon' inserida com valor 'Valor 6'.\n",
      "2025-03-26 15:29:16,915: Chave 'rubicundus' inserida com valor 'Valor 7'.\n"
     ]
    }
   ],
   "source": [
    "# Inserindo pares chave-valor na Radix Tree\n",
    "chaves = [\"romane\", \"romanus\", \"romulus\", \"rubens\", \"ruber\", \"rubicon\", \"rubicundus\"]\n",
    "valores = [\"Valor 1\", \"Valor 2\", \"Valor 3\", \"Valor 4\", \"Valor 5\", \"Valor 6\", \"Valor 7\"]\n",
    "\n",
    "for chave, valor in zip(chaves, valores):\n",
    "    arvore.inserir(chave, valor)"
   ]
  },
  {
   "cell_type": "code",
   "execution_count": 5,
   "metadata": {},
   "outputs": [
    {
     "name": "stderr",
     "output_type": "stream",
     "text": [
      "2025-03-26 15:29:16,920: Árvore atual (Radix Tree):\n",
      "2025-03-26 15:29:16,921: └── (raiz)\n",
      "2025-03-26 15:29:16,921:     └── r\n",
      "2025-03-26 15:29:16,922:         ├── om\n",
      "2025-03-26 15:29:16,922:         │   ├── an\n",
      "2025-03-26 15:29:16,923:         │   │   ├── e (valor=Valor 1)\n",
      "2025-03-26 15:29:16,923:         │   │   └── us (valor=Valor 2)\n",
      "2025-03-26 15:29:16,924:         │   └── ulus (valor=Valor 3)\n",
      "2025-03-26 15:29:16,924:         └── ub\n",
      "2025-03-26 15:29:16,924:             ├── e\n",
      "2025-03-26 15:29:16,925:             │   ├── ns (valor=Valor 4)\n",
      "2025-03-26 15:29:16,925:             │   └── r (valor=Valor 5)\n",
      "2025-03-26 15:29:16,925:             └── ic\n",
      "2025-03-26 15:29:16,925:                 ├── on (valor=Valor 6)\n",
      "2025-03-26 15:29:16,926:                 └── undus (valor=Valor 7)\n"
     ]
    }
   ],
   "source": [
    "# Exibindo a estrutura da Radix Tree\n",
    "arvore.exibir()"
   ]
  },
  {
   "cell_type": "code",
   "execution_count": 6,
   "metadata": {},
   "outputs": [
    {
     "name": "stderr",
     "output_type": "stream",
     "text": [
      "2025-03-26 15:29:16,933: Chave 'romane' encontrada com valor 'Valor 1'.\n",
      "2025-03-26 15:29:16,934: Chave 'romanus' encontrada com valor 'Valor 2'.\n",
      "2025-03-26 15:29:16,934: Chave 'romulus' encontrada com valor 'Valor 3'.\n",
      "2025-03-26 15:29:16,934: Chave 'rubens' encontrada com valor 'Valor 4'.\n",
      "2025-03-26 15:29:16,935: Chave 'ruber' encontrada com valor 'Valor 5'.\n",
      "2025-03-26 15:29:16,935: Chave 'rubicon' encontrada com valor 'Valor 6'.\n",
      "2025-03-26 15:29:16,935: Chave 'rubicundus' encontrada com valor 'Valor 7'.\n"
     ]
    }
   ],
   "source": [
    "# Realizando buscas\n",
    "for chave in chaves:\n",
    "    arvore.buscar(chave)"
   ]
  },
  {
   "cell_type": "code",
   "execution_count": 7,
   "metadata": {},
   "outputs": [
    {
     "name": "stderr",
     "output_type": "stream",
     "text": [
      "2025-03-26 15:29:16,942: Chave 'Resque' não encontrada.\n"
     ]
    }
   ],
   "source": [
    "# Buscando uma chave inexistente\n",
    "arvore.buscar(\"Resque\")"
   ]
  },
  {
   "cell_type": "code",
   "execution_count": 8,
   "metadata": {},
   "outputs": [
    {
     "name": "stderr",
     "output_type": "stream",
     "text": [
      "2025-03-26 15:29:16,957: Chave 'romulus' removida com sucesso.\n",
      "2025-03-26 15:29:16,958: Chave 'ruber' removida com sucesso.\n"
     ]
    },
    {
     "data": {
      "text/plain": [
       "True"
      ]
     },
     "execution_count": 8,
     "metadata": {},
     "output_type": "execute_result"
    }
   ],
   "source": [
    "# Removendo algumas chaves\n",
    "arvore.remover(\"romulus\")\n",
    "arvore.remover(\"ruber\")"
   ]
  },
  {
   "cell_type": "code",
   "execution_count": 9,
   "metadata": {},
   "outputs": [
    {
     "name": "stderr",
     "output_type": "stream",
     "text": [
      "2025-03-26 15:29:16,967: Árvore atual (Radix Tree):\n",
      "2025-03-26 15:29:16,968: └── (raiz)\n",
      "2025-03-26 15:29:16,968:     └── r\n",
      "2025-03-26 15:29:16,969:         ├── oman\n",
      "2025-03-26 15:29:16,969:         │   ├── e (valor=Valor 1)\n",
      "2025-03-26 15:29:16,969:         │   └── us (valor=Valor 2)\n",
      "2025-03-26 15:29:16,970:         └── ub\n",
      "2025-03-26 15:29:16,970:             ├── ens (valor=Valor 4)\n",
      "2025-03-26 15:29:16,971:             └── ic\n",
      "2025-03-26 15:29:16,971:                 ├── on (valor=Valor 6)\n",
      "2025-03-26 15:29:16,971:                 └── undus (valor=Valor 7)\n"
     ]
    }
   ],
   "source": [
    "# Exibindo a estrutura após remoções\n",
    "arvore.exibir()"
   ]
  },
  {
   "cell_type": "code",
   "execution_count": 10,
   "metadata": {},
   "outputs": [
    {
     "name": "stderr",
     "output_type": "stream",
     "text": [
      "2025-03-26 15:29:16,980: Chave 'romulus' não encontrada.\n",
      "2025-03-26 15:29:16,980: Chave 'ruber' não encontrada.\n"
     ]
    }
   ],
   "source": [
    "# Tentando buscar as chaves removidas\n",
    "arvore.buscar(\"romulus\")\n",
    "arvore.buscar(\"ruber\")"
   ]
  }
 ],
 "metadata": {
  "kernelspec": {
   "display_name": "Python 3",
   "language": "python",
   "name": "python3"
  },
  "language_info": {
   "codemirror_mode": {
    "name": "ipython",
    "version": 3
   },
   "file_extension": ".py",
   "mimetype": "text/x-python",
   "name": "python",
   "nbconvert_exporter": "python",
   "pygments_lexer": "ipython3",
   "version": "3.13.1"
  }
 },
 "nbformat": 4,
 "nbformat_minor": 2
}
