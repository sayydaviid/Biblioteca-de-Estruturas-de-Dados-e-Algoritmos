{
 "cells": [
  {
   "cell_type": "code",
   "execution_count": 1,
   "metadata": {},
   "outputs": [],
   "source": [
    "from modulo_arvores import RadixTree \n",
    "from objects import Logger, utils\n",
    "import random"
   ]
  },
  {
   "cell_type": "code",
   "execution_count": 2,
   "metadata": {},
   "outputs": [
    {
     "name": "stderr",
     "output_type": "stream",
     "text": [
      "2025-03-26 16:24:11,369: Árvore Radix criada com sucesso.\n"
     ]
    }
   ],
   "source": [
    "Logger.get_instance().activate()  # Ativando o logger\n",
    "arvore = RadixTree()"
   ]
  },
  {
   "cell_type": "code",
   "execution_count": 3,
   "metadata": {},
   "outputs": [
    {
     "name": "stderr",
     "output_type": "stream",
     "text": [
      "2025-03-26 16:24:11,376: Chave 'romane' inserida com valor 'Valor 1'.\n",
      "2025-03-26 16:24:11,377: Chave 'romanus' inserida com valor 'Valor 2'.\n",
      "2025-03-26 16:24:11,377: Chave 'romulus' inserida com valor 'Valor 3'.\n",
      "2025-03-26 16:24:11,378: Chave 'rubens' inserida com valor 'Valor 4'.\n",
      "2025-03-26 16:24:11,378: Chave 'ruber' inserida com valor 'Valor 5'.\n",
      "2025-03-26 16:24:11,378: Chave 'rubicon' inserida com valor 'Valor 6'.\n",
      "2025-03-26 16:24:11,379: Chave 'rubicundus' inserida com valor 'Valor 7'.\n"
     ]
    }
   ],
   "source": [
    "# Inserindo pares chave-valor na Radix Tree\n",
    "chaves = [\"romane\", \"romanus\", \"romulus\", \"rubens\", \"ruber\", \"rubicon\", \"rubicundus\"]\n",
    "valores = [\"Valor 1\", \"Valor 2\", \"Valor 3\", \"Valor 4\", \"Valor 5\", \"Valor 6\", \"Valor 7\"]\n",
    "\n",
    "for chave, valor in zip(chaves, valores):\n",
    "    arvore.inserir(chave, valor)"
   ]
  },
  {
   "cell_type": "code",
   "execution_count": 4,
   "metadata": {},
   "outputs": [
    {
     "name": "stderr",
     "output_type": "stream",
     "text": [
      "2025-03-26 16:24:11,385: Árvore atual (Radix Tree):\n",
      "2025-03-26 16:24:11,385: └── (raiz)\n",
      "2025-03-26 16:24:11,386:     └── r\n",
      "2025-03-26 16:24:11,386:         ├── om\n",
      "2025-03-26 16:24:11,386:         │   ├── an\n",
      "2025-03-26 16:24:11,387:         │   │   ├── e (valor=Valor 1)\n",
      "2025-03-26 16:24:11,387:         │   │   └── us (valor=Valor 2)\n",
      "2025-03-26 16:24:11,388:         │   └── ulus (valor=Valor 3)\n",
      "2025-03-26 16:24:11,388:         └── ub\n",
      "2025-03-26 16:24:11,388:             ├── e\n",
      "2025-03-26 16:24:11,389:             │   ├── ns (valor=Valor 4)\n",
      "2025-03-26 16:24:11,389:             │   └── r (valor=Valor 5)\n",
      "2025-03-26 16:24:11,389:             └── ic\n",
      "2025-03-26 16:24:11,390:                 ├── on (valor=Valor 6)\n",
      "2025-03-26 16:24:11,390:                 └── undus (valor=Valor 7)\n"
     ]
    }
   ],
   "source": [
    "# Exibindo a estrutura da Radix Tree\n",
    "arvore.exibir()"
   ]
  },
  {
   "cell_type": "code",
   "execution_count": 5,
   "metadata": {},
   "outputs": [
    {
     "name": "stderr",
     "output_type": "stream",
     "text": [
      "2025-03-26 16:24:11,397: Chave 'romane' encontrada com valor 'Valor 1'.\n",
      "2025-03-26 16:24:11,398: Chave 'romanus' encontrada com valor 'Valor 2'.\n",
      "2025-03-26 16:24:11,398: Chave 'romulus' encontrada com valor 'Valor 3'.\n",
      "2025-03-26 16:24:11,399: Chave 'rubens' encontrada com valor 'Valor 4'.\n",
      "2025-03-26 16:24:11,399: Chave 'ruber' encontrada com valor 'Valor 5'.\n",
      "2025-03-26 16:24:11,400: Chave 'rubicon' encontrada com valor 'Valor 6'.\n",
      "2025-03-26 16:24:11,400: Chave 'rubicundus' encontrada com valor 'Valor 7'.\n"
     ]
    }
   ],
   "source": [
    "# Realizando buscas\n",
    "for chave in chaves:\n",
    "    arvore.buscar(chave)"
   ]
  },
  {
   "cell_type": "code",
   "execution_count": 6,
   "metadata": {},
   "outputs": [
    {
     "name": "stderr",
     "output_type": "stream",
     "text": [
      "2025-03-26 16:24:11,406: Chave 'Resque' não encontrada.\n"
     ]
    }
   ],
   "source": [
    "# Buscando uma chave inexistente\n",
    "arvore.buscar(\"Resque\")"
   ]
  },
  {
   "cell_type": "code",
   "execution_count": 7,
   "metadata": {},
   "outputs": [
    {
     "name": "stderr",
     "output_type": "stream",
     "text": [
      "2025-03-26 16:24:11,414: Chave 'romulus' removida com sucesso.\n",
      "2025-03-26 16:24:11,415: Chave 'ruber' removida com sucesso.\n"
     ]
    },
    {
     "data": {
      "text/plain": [
       "True"
      ]
     },
     "execution_count": 7,
     "metadata": {},
     "output_type": "execute_result"
    }
   ],
   "source": [
    "# Removendo algumas chaves\n",
    "arvore.remover(\"romulus\")\n",
    "arvore.remover(\"ruber\")"
   ]
  },
  {
   "cell_type": "code",
   "execution_count": 8,
   "metadata": {},
   "outputs": [
    {
     "name": "stderr",
     "output_type": "stream",
     "text": [
      "2025-03-26 16:24:11,428: Árvore atual (Radix Tree):\n",
      "2025-03-26 16:24:11,429: └── (raiz)\n",
      "2025-03-26 16:24:11,429:     └── r\n",
      "2025-03-26 16:24:11,430:         ├── oman\n",
      "2025-03-26 16:24:11,431:         │   ├── e (valor=Valor 1)\n",
      "2025-03-26 16:24:11,431:         │   └── us (valor=Valor 2)\n",
      "2025-03-26 16:24:11,432:         └── ub\n",
      "2025-03-26 16:24:11,432:             ├── ens (valor=Valor 4)\n",
      "2025-03-26 16:24:11,433:             └── ic\n",
      "2025-03-26 16:24:11,433:                 ├── on (valor=Valor 6)\n",
      "2025-03-26 16:24:11,433:                 └── undus (valor=Valor 7)\n"
     ]
    }
   ],
   "source": [
    "# Exibindo a estrutura após remoções\n",
    "arvore.exibir()"
   ]
  },
  {
   "cell_type": "code",
   "execution_count": 9,
   "metadata": {},
   "outputs": [
    {
     "name": "stderr",
     "output_type": "stream",
     "text": [
      "2025-03-26 16:24:11,441: Chave 'romulus' não encontrada.\n",
      "2025-03-26 16:24:11,442: Chave 'ruber' não encontrada.\n"
     ]
    }
   ],
   "source": [
    "# Tentando buscar as chaves removidas\n",
    "arvore.buscar(\"romulus\")\n",
    "arvore.buscar(\"ruber\")"
   ]
  }
 ],
 "metadata": {
  "kernelspec": {
   "display_name": "Python 3",
   "language": "python",
   "name": "python3"
  },
  "language_info": {
   "codemirror_mode": {
    "name": "ipython",
    "version": 3
   },
   "file_extension": ".py",
   "mimetype": "text/x-python",
   "name": "python",
   "nbconvert_exporter": "python",
   "pygments_lexer": "ipython3",
   "version": "3.13.1"
  }
 },
 "nbformat": 4,
 "nbformat_minor": 2
}
